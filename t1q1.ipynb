{
  "nbformat": 4,
  "nbformat_minor": 0,
  "metadata": {
    "kernelspec": {
      "display_name": "Python 3",
      "language": "python",
      "name": "python3"
    },
    "language_info": {
      "codemirror_mode": {
        "name": "ipython",
        "version": 3
      },
      "file_extension": ".py",
      "mimetype": "text/x-python",
      "name": "python",
      "nbconvert_exporter": "python",
      "pygments_lexer": "ipython3",
      "version": "3.7.1"
    },
    "colab": {
      "name": "t1q1.ipynb",
      "provenance": []
    }
  },
  "cells": [
    {
      "cell_type": "markdown",
      "metadata": {
        "id": "-lBqq_UbBxll",
        "colab_type": "text"
      },
      "source": [
        "# Tutorial 1, Question 1"
      ]
    },
    {
      "cell_type": "code",
      "metadata": {
        "id": "OBcx-IkxBxlm",
        "colab_type": "code",
        "colab": {}
      },
      "source": [
        "import tensorflow as tf\n",
        "import numpy as np"
      ],
      "execution_count": null,
      "outputs": []
    },
    {
      "cell_type": "code",
      "metadata": {
        "id": "SFdVB4ePBxlp",
        "colab_type": "code",
        "colab": {}
      },
      "source": [
        "def g(u):\n",
        "    return 1.0/(1.0 + tf.exp(-0.5*u))\n",
        "\n",
        "def f(u):\n",
        "    shape = tf.shape(u)\n",
        "    return tf.where(tf.greater(u, tf.zeros(shape)), u, tf.zeros(shape))"
      ],
      "execution_count": null,
      "outputs": []
    },
    {
      "cell_type": "code",
      "metadata": {
        "id": "sSacAdvHBxls",
        "colab_type": "code",
        "colab": {}
      },
      "source": [
        "class Neuron():\n",
        "  def __init__(self, weight, bias):\n",
        "    self.w = tf.Variable(weight, tf.float32)\n",
        "    self.b = tf.Variable(bias, tf.float32)\n",
        "\n",
        "  def __call__(self, x, func):\n",
        "    u = tf.tensordot(self.w, x, axes=1) + self.b\n",
        "    y = func(u)\n",
        "    return u, y"
      ],
      "execution_count": null,
      "outputs": []
    },
    {
      "cell_type": "code",
      "metadata": {
        "id": "lVNDC_NLBxlu",
        "colab_type": "code",
        "colab": {}
      },
      "source": [
        "def network(input):\n",
        "    n1 = Neuron([1.0, -0.5, -1.0], 0.0)\n",
        "    n2 = Neuron([0.0, 2.0, 0.6], 0.5) \n",
        "    n3 = Neuron([-0.5, 0.6], 0.05) \n",
        "\n",
        "    u1, y1 = n1(input, g)\n",
        "    u2, y2 = n2(input, g)\n",
        "    u3, y3 = n3([y1, y2], f)\n",
        "    \n",
        "    return u1, y1, u2, y2, u3, y3"
      ],
      "execution_count": null,
      "outputs": []
    },
    {
      "cell_type": "code",
      "metadata": {
        "id": "xqx3Up0_Bxlw",
        "colab_type": "code",
        "colab": {},
        "outputId": "679274a7-48f1-47a6-acb9-c91990ad430b"
      },
      "source": [
        "u1_, y1_, u2_, y2_, u3_, y3_ = network([1.0, -0.5, 1.0])\n",
        "print('x = ',[1.0, -0.5, 1.0])\n",
        "print('u1=%g, u2=%g, u3=%g'% (u1_, u2_, u3_))\n",
        "print('y1=%g, y2=%g, y3=%g'%(y1_, y2_, y3_))"
      ],
      "execution_count": null,
      "outputs": [
        {
          "output_type": "stream",
          "text": [
            "x =  [1.0, -0.5, 1.0]\n",
            "u1=0.25, u2=0.1, u3=0.0918937\n",
            "y1=0.531209, y2=0.512497, y3=0.0918937\n"
          ],
          "name": "stdout"
        }
      ]
    },
    {
      "cell_type": "code",
      "metadata": {
        "id": "7UuHs2LLBxlz",
        "colab_type": "code",
        "colab": {},
        "outputId": "949dc42b-3e97-4460-d75c-66dc728da73f"
      },
      "source": [
        "u1_, y1_, u2_, y2_, u3_, y3_ = network([-1.0, 0.0, -2.0])\n",
        "print('\\n x = ',[-1.0, 0.0, -2.0])\n",
        "print('u1=%g, u2=%g, u3=%g'% (u1_, u2_, u3_))\n",
        "print('y1=%g, y2=%g, y3=%g'%(y1_, y2_, y3_))"
      ],
      "execution_count": null,
      "outputs": [
        {
          "output_type": "stream",
          "text": [
            "\n",
            " x =  [-1.0, 0.0, -2.0]\n",
            "u1=1, u2=-0.7, u3=-0.0132002\n",
            "y1=0.622459, y2=0.413382, y3=0\n"
          ],
          "name": "stdout"
        }
      ]
    },
    {
      "cell_type": "code",
      "metadata": {
        "id": "vVxlJD7sBxl2",
        "colab_type": "code",
        "colab": {},
        "outputId": "acc4dd9c-7f5f-4d95-a7d5-6ded5435ea11"
      },
      "source": [
        "u1_, y1_, u2_, y2_, u3_, y3_ = network([2.0, 0.5, -1.0])\n",
        "print('\\n x = ',[2.0, 0.5, -1.0])\n",
        "print('u1=%g, u2=%g, u3=%g'% (u1_, u2_, u3_))\n",
        "print('y1=%g, y2=%g, y3=%g'%(y1_, y2_, y3_))"
      ],
      "execution_count": null,
      "outputs": [
        {
          "output_type": "stream",
          "text": [
            "\n",
            " x =  [2.0, 0.5, -1.0]\n",
            "u1=2.75, u2=0.9, u3=0.0172902\n",
            "y1=0.798187, y2=0.610639, y3=0.0172902\n"
          ],
          "name": "stdout"
        }
      ]
    },
    {
      "cell_type": "code",
      "metadata": {
        "id": "Br0YfYMjBxl5",
        "colab_type": "code",
        "colab": {}
      },
      "source": [
        ""
      ],
      "execution_count": null,
      "outputs": []
    }
  ]
}